{
 "cells": [
  {
   "cell_type": "code",
   "execution_count": 8,
   "metadata": {},
   "outputs": [
    {
     "name": "stdout",
     "output_type": "stream",
     "text": [
      "(52,)\n",
      "<class 'pandas.core.frame.DataFrame'>\n",
      "RangeIndex: 9891 entries, 0 to 9890\n",
      "Data columns (total 52 columns):\n",
      " #   Column           Non-Null Count  Dtype  \n",
      "---  ------           --------------  -----  \n",
      " 0   Time(s)          9891 non-null   float64\n",
      " 1   Lap(s)           9891 non-null   float64\n",
      " 2   Distance(m)      9891 non-null   float64\n",
      " 3   Complete%        9891 non-null   float64\n",
      " 4   X                9891 non-null   float64\n",
      " 5   Y                9891 non-null   float64\n",
      " 6   Z                9891 non-null   float64\n",
      " 7   speed(km/h)      9891 non-null   float64\n",
      " 8   X vel            9891 non-null   float64\n",
      " 9   Y vel            9891 non-null   float64\n",
      " 10  Z vel            9891 non-null   float64\n",
      " 11  X Rdir           9891 non-null   float64\n",
      " 12  Y Rdir           9891 non-null   float64\n",
      " 13  Z Rdir           9891 non-null   float64\n",
      " 14  X Fdir           9891 non-null   float64\n",
      " 15  Y Fdir           9891 non-null   float64\n",
      " 16  Z Fdir           9891 non-null   float64\n",
      " 17  SP-FL            9891 non-null   float64\n",
      " 18  SP-FR            9891 non-null   float64\n",
      " 19  SP-RL            9891 non-null   float64\n",
      " 20  SP-RR            9891 non-null   float64\n",
      " 21  DampV-FL         9891 non-null   float64\n",
      " 22  DampV-FR         9891 non-null   float64\n",
      " 23  DampV-RL         9891 non-null   float64\n",
      " 24  DampV-RR         9891 non-null   float64\n",
      " 25  WheelSpd-FL      9891 non-null   float64\n",
      " 26  WheelSpd-FR      9891 non-null   float64\n",
      " 27  WheelSpd-RL      9891 non-null   float64\n",
      " 28  WheelSpd-RR      9891 non-null   float64\n",
      " 29  Throttle         9891 non-null   float64\n",
      " 30  Steering         9891 non-null   float64\n",
      " 31  Brake            9891 non-null   float64\n",
      " 32  Clutch           9891 non-null   float64\n",
      " 33  Gear             9891 non-null   int64  \n",
      " 34  fX(G)            9891 non-null   float64\n",
      " 35  fZ(G)            9891 non-null   float64\n",
      " 36  LapNum           9891 non-null   int64  \n",
      " 37  RPM              9891 non-null   float64\n",
      " 38  Race Pos         9891 non-null   int64  \n",
      " 39  SectorNum        9891 non-null   int64  \n",
      " 40  Sector1Time      9891 non-null   float64\n",
      " 41  Sector2Time      9891 non-null   float64\n",
      " 42  BrakeT-FL        9891 non-null   float64\n",
      " 43  BrakeT-FR        9891 non-null   float64\n",
      " 44  BrakeT-RL        9891 non-null   float64\n",
      " 45  BrakeT-RR        9891 non-null   float64\n",
      " 46  LastLap(s)       9891 non-null   float64\n",
      " 47  Trajectory(deg)  9891 non-null   float64\n",
      " 48  slipFL           9891 non-null   float64\n",
      " 49  slipFR           9891 non-null   float64\n",
      " 50  slipRL           9891 non-null   float64\n",
      " 51  slipRR           9891 non-null   float64\n",
      "dtypes: float64(48), int64(4)\n",
      "memory usage: 3.9 MB\n"
     ]
    }
   ],
   "source": [
    "import pandas as pd\n",
    "import numpy as np\n",
    "import math\n",
    "from matplotlib import pyplot as plt\n",
    "log_dir = 'C:/Users/user/rally_project/data/Rally_style/log/'\n",
    "to_save_dir = 'C:/Users/user/rally_project/data/Rally_style/CSV_preprocessed/'\n",
    "waymo_lider = 'training_lidar_10017090168044687777_6380_000_6400_000.parquet'\n",
    "filename = 'Subida por carretera,BMW M2 Competition,8-4-2023,2 - Subida por carretera,BMW M2 Competition,8-4-2023,2.csv.csv'\n",
    "df = pd.read_csv(to_save_dir + filename)\n",
    "print(df.columns.shape)\n",
    "df.info()"
   ]
  },
  {
   "cell_type": "code",
   "execution_count": 9,
   "metadata": {},
   "outputs": [],
   "source": [
    "ndf = df.copy()\n",
    "ndf = ndf.drop(ndf[ndf['Lap(s)']<3.68].index,axis = 0)\n",
    "ndf = ndf.drop(ndf[ndf['Lap(s)']==0].index,axis = 0)\n",
    "ndf = ndf.reset_index(drop= True)"
   ]
  },
  {
   "cell_type": "code",
   "execution_count": 10,
   "metadata": {},
   "outputs": [],
   "source": [
    "stage_name = pd.Series(['Subida por carretera']*ndf.shape[0])\n",
    "stage_surface_types = pd.Series(['Smooth Asphalt']*ndf.shape[0])\n",
    "stage_location_condition1 = pd.Series(['Day time']*ndf.shape[0])\n",
    "stage_location_condition2 = pd.Series(['Cloudy']*ndf.shape[0])\n",
    "stage_location_condition3 = pd.Series(['Wet Surface']*ndf.shape[0])\n",
    "stage_distance = pd.Series([4.58]*ndf.shape[0])\n",
    "stage_elevation_change = pd.Series([58.0]*ndf.shape[0])\n",
    "\n",
    "Vehicle_name = pd.Series(['BMW M2 Competition']*ndf.shape[0])\n",
    "Vehicle_max_power = pd.Series([400]*ndf.shape[0])\n",
    "Vehicle_max_weight = pd.Series([1200]*ndf.shape[0])\n",
    "Vehicle_engine = pd.Series([2979]*ndf.shape[0])\n",
    "Vehicle_cylinders = pd.Series([6]*ndf.shape[0])\n",
    "Vehicle_aspiration = pd.Series(['Turbo']*ndf.shape[0])\n",
    "Vehicle_transmission1 = pd.Series([6]*ndf.shape[0])\n",
    "Vehicle_transmission2 = pd.Series(['Manual Sequential']*ndf.shape[0])\n",
    "Vehicle_type = pd.Series(['RWD']*ndf.shape[0])\n",
    "Vehicle_class = pd.Series(['Rally GT']*ndf.shape[0])\n",
    "Vehicle_tyre = pd.Series(['Soft']*ndf.shape[0])\n",
    "Vehicle_tyre_performance = pd.Series([3]*ndf.shape[0])\n",
    "Vehicle_tyre_durability = pd.Series([1]*ndf.shape[0])\n",
    "\n",
    "Vehicle_front_toe_angle = pd.Series([0.00]*ndf.shape[0])\n",
    "Vehicle_front_camber_angle = pd.Series([-1.00]*ndf.shape[0])\n",
    "Vehicle_rear_toe_angle = pd.Series([0.05]*ndf.shape[0])\n",
    "Vehicle_rear_camber_angle = pd.Series([-1.50]*ndf.shape[0])\n",
    "Vehicle_braking_force = pd.Series([3220.00]*ndf.shape[0])\n",
    "Vehicle_braking_bias = pd.Series([0.74]*ndf.shape[0])\n",
    "Vehicle_rear_LSD_driving_lock = pd.Series([0.4]*ndf.shape[0])\n",
    "Vehicle_rear_LSD_braking_lock = pd.Series([0.36]*ndf.shape[0])\n",
    "Vehicle_rear_LSD_preload = pd.Series([30.00]*ndf.shape[0])\n",
    "Vehicle_front_LSD_driving_lock = pd.Series([0]*ndf.shape[0])\n",
    "Vehicle_front_LSD_braking_lock = pd.Series([0]*ndf.shape[0])\n",
    "Vehicle_front_LSD_preload = pd.Series([0]*ndf.shape[0])\n",
    "\n",
    "Vehicle_1st_gear = pd.Series([0.311]*ndf.shape[0])\n",
    "Vehicle_2st_gear = pd.Series([0.411]*ndf.shape[0])\n",
    "Vehicle_3st_gear = pd.Series([0.531]*ndf.shape[0])\n",
    "Vehicle_4st_gear = pd.Series([0.671]*ndf.shape[0])\n",
    "Vehicle_5st_gear = pd.Series([0.828]*ndf.shape[0])\n",
    "Vehicle_6st_gear = pd.Series([1]*ndf.shape[0])\n",
    "Vehicle_final_drive = pd.Series([0.253]*ndf.shape[0])\n",
    "\n",
    "Vehicle_front_slow_bump = pd.Series([0.0]*ndf.shape[0])\n",
    "Vehicle_front_fast_bump = pd.Series([0.0]*ndf.shape[0])\n",
    "Vehicle_front_bumpzone_division = pd.Series([0.1]*ndf.shape[0])\n",
    "Vehicle_front_slow_rebound = pd.Series([0.0]*ndf.shape[0])\n",
    "Vehicle_rear_slow_bump = pd.Series([0.0]*ndf.shape[0])\n",
    "Vehicle_rear_fast_bump = pd.Series([0.0]*ndf.shape[0])\n",
    "Vehicle_rear_bumpzone_division = pd.Series([0.1]*ndf.shape[0])\n",
    "Vehicle_rear_slow_rebound = pd.Series([0.0]*ndf.shape[0])\n",
    "\n",
    "Vehicle_front_ride_height = pd.Series([-20.0]*ndf.shape[0])\n",
    "Vehicle_front_spring_rate = pd.Series([200.75]*ndf.shape[0])\n",
    "Vehicle_front_anti_rollbar = pd.Series([55.71]*ndf.shape[0])\n",
    "Vehicle_rear_ride_height = pd.Series([-20.0]*ndf.shape[0])\n",
    "Vehicle_rear_spring_rate = pd.Series([121.69]*ndf.shape[0])\n",
    "Vehicle_rear_anti_rollbar = pd.Series([34.29]*ndf.shape[0])\n",
    "\n",
    "stage_result = pd.Series([-3]*ndf.shape[0])"
   ]
  },
  {
   "cell_type": "code",
   "execution_count": 11,
   "metadata": {},
   "outputs": [],
   "source": [
    "ndf['stage_name'] = stage_name\n",
    "ndf['stage_surface_types']  = stage_surface_types\n",
    "ndf['stage_location_condition1'] = stage_location_condition1\n",
    "ndf['stage_location_condition2'] = stage_location_condition2\n",
    "ndf['stage_location_condition3'] = stage_location_condition3\n",
    "ndf['stage_distance(km)'] = stage_distance\n",
    "ndf['stage_elevation_change(m)'] = stage_elevation_change\n",
    "\n",
    "ndf['Vehicle_name'] = Vehicle_name\n",
    "ndf['Vehicle_max_power(bhp)'] = Vehicle_max_power\n",
    "ndf['Vehicle_max_weight(kg)'] = Vehicle_max_weight \n",
    "ndf['Vehicle_engine(cc)'] = Vehicle_engine\n",
    "ndf['Vehicle_cylinders'] = Vehicle_cylinders \n",
    "ndf['Vehicle_aspiration'] = Vehicle_aspiration\n",
    "ndf['Vehicle_transmission1'] = Vehicle_transmission1 \n",
    "ndf['Vehicle_transmission2'] = Vehicle_transmission2\n",
    "ndf['Vehicle_type'] = Vehicle_type \n",
    "ndf['Vehicle_class'] = Vehicle_class\n",
    "ndf['Vehicle_tyre'] = Vehicle_tyre \n",
    "ndf['Vehicle_tyre_performance'] = Vehicle_tyre_performance \n",
    "ndf['Vehicle_tyre_durability'] = Vehicle_tyre_durability \n",
    "\n",
    "ndf['Vehicle_front_toe_angle(degree)'] = Vehicle_front_toe_angle\n",
    "ndf['Vehicle_front_camber_angle(degree)'] = Vehicle_front_camber_angle\n",
    "ndf['Vehicle_rear_toe_angle(degree)'] = Vehicle_rear_toe_angle\n",
    "ndf['Vehicle_rear_camber_angle(degree)'] = Vehicle_rear_camber_angle\n",
    "ndf['Vehicle_braking_force(Nm)'] = Vehicle_braking_force\n",
    "ndf['Vehicle_braking_bias'] = Vehicle_braking_bias\n",
    "ndf['Vehicle_rear_LSD_driving_lock'] = Vehicle_rear_LSD_driving_lock \n",
    "ndf['Vehicle_rear_LSD_braking_lock'] = Vehicle_rear_LSD_braking_lock \n",
    "ndf['Vehicle_rear_LSD_preload(Nm)'] = Vehicle_rear_LSD_preload\n",
    "ndf['Vehicle_front_LSD_driving_lock'] = Vehicle_front_LSD_driving_lock \n",
    "ndf['Vehicle_front_LSD_braking_lock'] = Vehicle_front_LSD_braking_lock \n",
    "ndf['Vehicle_front_LSD_preload'] = Vehicle_front_LSD_preload \n",
    "\n",
    "ndf['Vehicle_1st_gear'] = Vehicle_1st_gear\n",
    "ndf['Vehicle_2st_gear'] = Vehicle_2st_gear\n",
    "ndf['Vehicle_3st_gear'] = Vehicle_3st_gear\n",
    "ndf['Vehicle_4st_gear'] = Vehicle_4st_gear\n",
    "ndf['Vehicle_5st_gear'] = Vehicle_5st_gear\n",
    "ndf['Vehicle_6st_gear'] = Vehicle_6st_gear\n",
    "ndf['Vehicle_final_drive'] = Vehicle_final_drive \n",
    "ndf['Vehicle_front_slow_bump'] = Vehicle_front_slow_bump\n",
    "ndf['Vehicle_front_fast_bump'] = Vehicle_front_fast_bump \n",
    "ndf['Vehicle_front_bumpzone_division(mps)'] = Vehicle_front_bumpzone_division \n",
    "ndf['Vehicle_front_slow_rebound'] = Vehicle_front_slow_rebound\n",
    "ndf['Vehicle_rear_slow_bump'] = Vehicle_rear_slow_bump\n",
    "ndf['Vehicle_rear_fast_bump'] = Vehicle_rear_fast_bump\n",
    "ndf['Vehicle_rear_bumpzone_division(mps)'] = Vehicle_rear_bumpzone_division\n",
    "ndf['Vehicle_rear_slow_rebound'] = Vehicle_rear_slow_rebound\n",
    "\n",
    "ndf['Vehicle_front_ride_height(mm)'] = Vehicle_front_ride_height \n",
    "ndf['Vehicle_front_spring_rate(N/mm)'] = Vehicle_front_spring_rate \n",
    "ndf['Vehicle_front_anti_rollbar(N/mm)'] = Vehicle_front_anti_rollbar\n",
    "ndf['Vehicle_rear_ride_height(mm)'] = Vehicle_rear_ride_height \n",
    "ndf['Vehicle_rear_spring_rate(N/mm)'] = Vehicle_rear_spring_rate \n",
    "ndf['Vehicle_rear_anti_rollbar(N/mm)'] = Vehicle_rear_anti_rollbar \n",
    "\n",
    "ndf['stage_result'] = stage_result"
   ]
  },
  {
   "cell_type": "code",
   "execution_count": 12,
   "metadata": {},
   "outputs": [
    {
     "name": "stdout",
     "output_type": "stream",
     "text": [
      "Index(['Time(s)', 'Lap(s)', 'Distance(m)', 'Complete%', 'X', 'Y', 'Z',\n",
      "       'speed(km/h)', 'X vel', 'Y vel',\n",
      "       ...\n",
      "       'Vehicle_rear_fast_bump', 'Vehicle_rear_bumpzone_division(mps)',\n",
      "       'Vehicle_rear_slow_rebound', 'Vehicle_front_ride_height(mm)',\n",
      "       'Vehicle_front_spring_rate(N/mm)', 'Vehicle_front_anti_rollbar(N/mm)',\n",
      "       'Vehicle_rear_ride_height(mm)', 'Vehicle_rear_spring_rate(N/mm)',\n",
      "       'Vehicle_rear_anti_rollbar(N/mm)', 'stage_result'],\n",
      "      dtype='object', length=106)\n"
     ]
    }
   ],
   "source": [
    "ndf = ndf.reset_index(drop= True)\n",
    "print(ndf.columns)\n",
    "ndf.to_csv(to_save_dir + 'p_'+filename)"
   ]
  },
  {
   "cell_type": "code",
   "execution_count": 18,
   "metadata": {},
   "outputs": [
    {
     "name": "stderr",
     "output_type": "stream",
     "text": [
      "C:\\Users\\user\\AppData\\Local\\Temp\\ipykernel_3128\\2752666487.py:8: DtypeWarning: Columns (107,109,110,111,116,119,121) have mixed types. Specify dtype option on import or set low_memory=False.\n",
      "  df1 = pd.read_csv(to_save_dir + filename1)\n",
      "C:\\Users\\user\\AppData\\Local\\Temp\\ipykernel_3128\\2752666487.py:9: DtypeWarning: Columns (107,110,116,119,121) have mixed types. Specify dtype option on import or set low_memory=False.\n",
      "  df2 = pd.read_csv(to_save_dir + filename2)\n"
     ]
    },
    {
     "data": {
      "text/plain": [
       "2.433236"
      ]
     },
     "execution_count": 18,
     "metadata": {},
     "output_type": "execute_result"
    }
   ],
   "source": [
    "import pandas as pd\n",
    "import numpy as np\n",
    "import math\n",
    "from matplotlib import pyplot as plt\n",
    "to_save_dir = 'C:/Users/user/rally_project/data/Rally_style/CSV_preprocessed/'\n",
    "filename1 =  'p_Subida por carretera,BMW M2 Competition,8-4-2023,1 - Subida por carretera,BMW M2 Competition,8-4-2023,1.csv - p_Subida por carretera,BMW M2 Competition,8-4-2023,1 - Subida por carretera,BMW M2 Competition,8-4-2023.csv'\n",
    "filename2 = 'p_Subida por carretera,BMW M2 Competition,8-4-2023,2 - Subida por carretera,BMW M2 Competition,8-4-2023,2.csv - p_Subida por carretera,BMW M2 Competition,8-4-2023,2 - Subida por carretera,BMW M2 Competition,8-4-2023.csv'\n",
    "df1 = pd.read_csv(to_save_dir + filename1)\n",
    "df2 = pd.read_csv(to_save_dir + filename2)"
   ]
  },
  {
   "cell_type": "code",
   "execution_count": 21,
   "metadata": {},
   "outputs": [],
   "source": [
    "## 스티어링,엑셀,브레이크,클러치 변화량 컬럼 추가\n",
    "df1['Delta steering'] = df1['Lap(s)'].copy()\n",
    "df1['Delta throttle'] = df1['Lap(s)'].copy()\n",
    "df1['Delta brake'] = df1['Lap(s)'].copy()\n",
    "df1['Delta clutch'] = df1['Lap(s)'].copy()\n",
    "\n",
    "df2['Delta steering'] = df2['Lap(s)'].copy()\n",
    "df2['Delta throttle'] = df2['Lap(s)'].copy()\n",
    "df2['Delta brake'] = df2['Lap(s)'].copy()\n",
    "df2['Delta clutch'] = df2['Lap(s)'].copy()\n",
    "for i in range(df1.shape[0]):\n",
    "    if i==0:\n",
    "        df1.loc[i,'Delta steering'] = (df1.iloc[i+1]['Steering'] - df1.iloc[i]['Steering'])/(df1.iloc[i+1]['Lap(s)'] - df1.iloc[i]['Lap(s)'])\n",
    "        df1.loc[i,'Delta throttle'] = (df1.iloc[i+1]['Throttle'] - df1.iloc[i]['Throttle'])/(df1.iloc[i+1]['Lap(s)'] - df1.iloc[i]['Lap(s)'])\n",
    "        df1.loc[i,'Delta brake'] = (df1.iloc[i+1]['Brake'] - df1.iloc[i]['Brake'])/(df1.iloc[i+1]['Lap(s)'] - df1.iloc[i]['Lap(s)'])\n",
    "        df1.loc[i,'Delta clutch'] = (df1.iloc[i+1]['Clutch'] - df1.iloc[i]['Clutch'])/(df1.iloc[i+1]['Lap(s)'] - df1.iloc[i]['Lap(s)'])\n",
    "        continue\n",
    "    elif i == df1.shape[0]-1:\n",
    "        val1 = df1.iloc[i-1]['Delta steering']\n",
    "        val2 = df1.iloc[i-1]['Delta throttle']\n",
    "        val3 = df1.iloc[i-1]['Delta brake']\n",
    "        val4 = df1.iloc[i-1]['Delta clutch'] \n",
    "        df1.loc[i,'Delta steering'] = val1\n",
    "        df1.loc[i,'Delta throttle'] = val2\n",
    "        df1.loc[i,'Delta brake'] = val3\n",
    "        df1.loc[i,'Delta clutch'] = val4\n",
    "        continue\n",
    "    else:\n",
    "        df1.loc[i,'Delta steering'] = (df1.iloc[i]['Steering'] - df1.iloc[i-1]['Steering'])/(df1.iloc[i]['Lap(s)'] - df1.iloc[i-1]['Lap(s)'])\n",
    "        df1.loc[i,'Delta throttle'] = (df1.iloc[i]['Throttle'] - df1.iloc[i-1]['Throttle'])/(df1.iloc[i]['Lap(s)'] - df1.iloc[i-1]['Lap(s)'])\n",
    "        df1.loc[i,'Delta brake'] = (df1.iloc[i]['Brake'] - df1.iloc[i-1]['Brake'])/(df1.iloc[i]['Lap(s)'] - df1.iloc[i-1]['Lap(s)'])\n",
    "        df1.loc[i,'Delta clutch'] = (df1.iloc[i]['Clutch'] - df1.iloc[i-1]['Clutch'])/(df1.iloc[i]['Lap(s)'] - df1.iloc[i-1]['Lap(s)'])\n",
    "\n",
    "\n",
    "for i in range(df2.shape[0]):\n",
    "    if i==0:\n",
    "        df2.loc[i,'Delta steering'] = (df2.iloc[i+1]['Steering'] - df2.iloc[i]['Steering'])/(df2.iloc[i+1]['Lap(s)'] - df2.iloc[i]['Lap(s)'])\n",
    "        df2.loc[i,'Delta throttle'] = (df2.iloc[i+1]['Throttle'] - df2.iloc[i]['Throttle'])/(df2.iloc[i+1]['Lap(s)'] - df2.iloc[i]['Lap(s)'])\n",
    "        df2.loc[i,'Delta brake'] = (df2.iloc[i+1]['Brake'] - df2.iloc[i]['Brake'])/(df2.iloc[i+1]['Lap(s)'] - df2.iloc[i]['Lap(s)'])\n",
    "        df2.loc[i,'Delta clutch'] = (df2.iloc[i+1]['Clutch'] - df2.iloc[i]['Clutch'])/(df2.iloc[i+1]['Lap(s)'] - df2.iloc[i]['Lap(s)'])\n",
    "        continue\n",
    "    elif i == df2.shape[0]-1:\n",
    "        val1 = df2.iloc[i-1]['Delta steering']\n",
    "        val2 = df2.iloc[i-1]['Delta throttle']\n",
    "        val3 = df2.iloc[i-1]['Delta brake']\n",
    "        val4 = df2.iloc[i-1]['Delta clutch'] \n",
    "        df2.loc[i,'Delta steering'] = val1\n",
    "        df2.loc[i,'Delta throttle'] = val2\n",
    "        df2.loc[i,'Delta brake'] = val3\n",
    "        df2.loc[i,'Delta clutch'] = val4\n",
    "        continue\n",
    "    else:\n",
    "        df2.loc[i,'Delta steering'] = (df2.iloc[i]['Steering'] - df2.iloc[i-1]['Steering'])/(df2.iloc[i]['Lap(s)'] - df2.iloc[i-1]['Lap(s)'])\n",
    "        df2.loc[i,'Delta throttle'] = (df2.iloc[i]['Throttle'] - df2.iloc[i-1]['Throttle'])/(df2.iloc[i]['Lap(s)'] - df2.iloc[i-1]['Lap(s)'])\n",
    "        df2.loc[i,'Delta brake'] = (df2.iloc[i]['Brake'] - df2.iloc[i-1]['Brake'])/(df2.iloc[i]['Lap(s)'] - df2.iloc[i-1]['Lap(s)'])\n",
    "        df2.loc[i,'Delta clutch'] = (df2.iloc[i]['Clutch'] - df2.iloc[i-1]['Clutch'])/(df2.iloc[i]['Lap(s)'] - df2.iloc[i-1]['Lap(s)'])"
   ]
  },
  {
   "cell_type": "code",
   "execution_count": 28,
   "metadata": {},
   "outputs": [
    {
     "data": {
      "text/plain": [
       "(array([8985.,   30.,   30.,   30.,   30.,   28.,   30.,   29.,   30.,\n",
       "         146.]),\n",
       " array([0. , 0.1, 0.2, 0.3, 0.4, 0.5, 0.6, 0.7, 0.8, 0.9, 1. ]),\n",
       " <BarContainer object of 10 artists>)"
      ]
     },
     "execution_count": 28,
     "metadata": {},
     "output_type": "execute_result"
    },
    {
     "data": {
      "image/png": "[encoded data removed]",
      "text/plain": [
       "<Figure size 640x480 with 1 Axes>"
      ]
     },
     "metadata": {},
     "output_type": "display_data"
    }
   ],
   "source": [
    "plt.hist(df2['Delta clutch'],color='b')\n",
    "plt.hist(df2['Clutch'],color='r')\n"
   ]
  },
  {
   "cell_type": "code",
   "execution_count": 29,
   "metadata": {},
   "outputs": [
    {
     "data": {
      "text/plain": [
       "0"
      ]
     },
     "execution_count": 29,
     "metadata": {},
     "output_type": "execute_result"
    }
   ],
   "source": [
    "new1_df1 = pd.concat([df1,df2])\n",
    "\n",
    "drop_col = ['stage_name','stage_surface_types','stage_location_condition1','stage_distance(km)',\n",
    "            'stage_elevation_change(m)','Vehicle_name','Vehicle_max_power(bhp)','Vehicle_max_weight(kg)',\n",
    "            'Vehicle_engine(cc)','Vehicle_cylinders','Vehicle_aspiration','Vehicle_transmission1',\n",
    "            'Vehicle_transmission2','Vehicle_type','Vehicle_class','Vehicle_front_toe_angle(degree)',\n",
    "            'Vehicle_front_camber_angle(degree)','Vehicle_rear_toe_angle(degree)','Vehicle_rear_camber_angle(degree)',\n",
    "            'Vehicle_braking_force(Nm)','Vehicle_braking_bias','Vehicle_rear_LSD_driving_lock','Vehicle_rear_LSD_braking_lock',\n",
    "            'Vehicle_rear_LSD_preload(Nm)','Vehicle_front_LSD_driving_lock','Vehicle_front_LSD_braking_lock',\n",
    "            'Vehicle_front_LSD_preload','Vehicle_1st_gear','Vehicle_2st_gear','Vehicle_3st_gear','Vehicle_4st_gear',\n",
    "            'Vehicle_5st_gear','Vehicle_6st_gear','Vehicle_final_drive','Vehicle_front_slow_bump','Vehicle_front_fast_bump',\n",
    "            'Vehicle_front_bumpzone_division(mps)','Vehicle_front_slow_rebound','Vehicle_rear_slow_bump','Vehicle_rear_fast_bump',\n",
    "            'Vehicle_rear_bumpzone_division(mps)','Vehicle_rear_slow_rebound','Vehicle_front_ride_height(mm)','Vehicle_front_spring_rate(N/mm)',\n",
    "            'Vehicle_front_anti_rollbar(N/mm)','Vehicle_rear_ride_height(mm)','Vehicle_rear_spring_rate(N/mm)','Vehicle_rear_anti_rollbar(N/mm)',\n",
    "            'LapNum'\n",
    "            ]\n",
    "new2_df1 = new1_df1.drop('Unnamed: 0',axis = 1)\n",
    "new2_df1 = new2_df1.drop(drop_col,axis = 1)\n",
    "new2_df1 = new2_df1.fillna('null')\n",
    "new2_df1.isnull().sum().sum()\n",
    "\n"
   ]
  },
  {
   "cell_type": "code",
   "execution_count": 30,
   "metadata": {},
   "outputs": [],
   "source": [
    "new3_df1 = new2_df1.copy()\n",
    "new3_df1.to_csv(to_save_dir+'project2_data.csv')"
   ]
  }
 ],
 "metadata": {
  "kernelspec": {
   "display_name": "Python 3",
   "language": "python",
   "name": "python3"
  },
  "language_info": {
   "codemirror_mode": {
    "name": "ipython",
    "version": 3
   },
   "file_extension": ".py",
   "mimetype": "text/x-python",
   "name": "python",
   "nbconvert_exporter": "python",
   "pygments_lexer": "ipython3",
   "version": "3.10.11"
  },
  "orig_nbformat": 4
 },
 "nbformat": 4,
 "nbformat_minor": 2
}
